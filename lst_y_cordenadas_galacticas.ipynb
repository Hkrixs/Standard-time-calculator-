{
  "cells": [
    {
      "cell_type": "code",
      "execution_count": 1,
      "metadata": {
        "colab": {
          "base_uri": "https://localhost:8080/"
        },
        "id": "u7Nrlv_Lk_OO",
        "outputId": "004f9b63-92fd-42ed-cc34-925d4daec4dc"
      },
      "outputs": [
        {
          "name": "stdout",
          "output_type": "stream",
          "text": [
            "\n",
            "Local Sidereal Time 0:55:30 \n",
            "\n",
            "\n"
          ]
        }
      ],
      "source": [
        "import numpy as np\n",
        "from datetime import datetime, date\n",
        "\n",
        "N = datetime.now().timetuple().tm_yday #Number of the day in the year\n",
        "\n",
        "#Constant G = 6.6270444445 this constant is an arbitrary constant from the Astronomy Almanac 2023\n",
        "\n",
        "Long = float(input('\\nLongitude\\n')) #Input longitude\n",
        "\n",
        "#Long = -70.47 ###Chile\n",
        "TD = input('\\nInput date and hour in this format: MMDDAA HHMM.\\n') #Input date and hour\n",
        "\n",
        "\n",
        "MM = float(TD[0:2])\n",
        "DD = float(TD[2:4])\n",
        "AA = float(TD[4:6])\n",
        "AA = AA+2000\n",
        "\n",
        "hh = float(TD[7:9])+4   # In Chile is GMT -4 so i added 4 and GMT = UT making this code work//\n",
        "                        # if you wanna use this code please check your local GMT or better just use UT//\n",
        "\n",
        "mm = float(TD[9:11])\n",
        "mm = mm/60\n",
        "UT = hh+mm\n",
        "\n",
        "\n",
        "GST = 6.6270444445 + 0.0657098245*N + 1.00273791*UT #Greenwicth  Sidereal Time\n",
        "\n",
        "GST = GST % 24\n",
        "\n",
        "Long = Long/15 # Longitude to hour\n",
        "LST = GST+Long # Local Sideral Time\n",
        "\n",
        "if LST < 0:\n",
        "    LST = LST +24\n",
        "\n",
        "#Lets order our time for a readable output\n",
        "\n",
        "LSTmm = (LST - int(LST))*60\n",
        "LSTss = (LSTmm - int(LSTmm))*60\n",
        "LSThh = int(LST)\n",
        "LSTmm = int(LSTmm)\n",
        "LSTss = int(LSTss)\n",
        "\n",
        "print ('\\nLocal Sidereal Time %s:%s:%s \\n\\n' %(LSThh, LSTmm, LSTss))"
      ]
    }
  ],
  "metadata": {
    "colab": {
      "provenance": []
    },
    "kernelspec": {
      "display_name": "Python 3",
      "language": "python",
      "name": "python3"
    },
    "language_info": {
      "codemirror_mode": {
        "name": "ipython",
        "version": 3
      },
      "file_extension": ".py",
      "mimetype": "text/x-python",
      "name": "python",
      "nbconvert_exporter": "python",
      "pygments_lexer": "ipython3",
      "version": "3.10.8"
    }
  },
  "nbformat": 4,
  "nbformat_minor": 0
}
